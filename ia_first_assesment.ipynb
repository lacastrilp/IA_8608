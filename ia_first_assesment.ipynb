{
  "nbformat": 4,
  "nbformat_minor": 0,
  "metadata": {
    "colab": {
      "provenance": [],
      "toc_visible": true,
      "authorship_tag": "ABX9TyMkTcVXGDnyCT/nCbYub6i8",
      "include_colab_link": true
    },
    "kernelspec": {
      "name": "python3",
      "display_name": "Python 3"
    },
    "language_info": {
      "name": "python"
    }
  },
  "cells": [
    {
      "cell_type": "markdown",
      "metadata": {
        "id": "view-in-github",
        "colab_type": "text"
      },
      "source": [
        "<a href=\"https://colab.research.google.com/github/lacastrilp/IA_8608/blob/main/ia_first_assesment.ipynb\" target=\"_parent\"><img src=\"https://colab.research.google.com/assets/colab-badge.svg\" alt=\"Open In Colab\"/></a>"
      ]
    },
    {
      "cell_type": "markdown",
      "source": [
        "# **Examen Parcial I: Introducción a la Inteligencia Artificial**\n",
        "\n",
        "## **Integrantes:**\n",
        "* Luis ALejandro Castrillón Pulgarín\n",
        "  * **ID EPIK:** 1000330339\n",
        "* Juan Young Hoyos\n",
        "  * **ID EPIK:**\n",
        "* Jaider España Paternina\n",
        "  * **ID EPIK:**"
      ],
      "metadata": {
        "id": "r6yTmsK5TCni"
      }
    },
    {
      "cell_type": "markdown",
      "source": [
        "# **Instrucciones Generales**\n",
        "  * El examen debe ser resuelto en equipos de **tres (3) personas**.\n",
        "  * El lenguaje de trabajo exclusivo es **Python**.\n",
        "  * La entrega se realizará a través de un **Notebook de Google Colab** (preferiblemente) o un **enlace a un repositorio de GitHub** que contenga el Notebook.\n",
        "  * Asegúrense de que el enlace sea público o que se otorgue acceso al profesor para la calificación. También se requiere, un **archivo PDF** generado a partir del Notebook  de Colab o de GitHub, que sirva como documento formal del examen. Este PDF debe ser legible y contener todo el contenido del Notebook.\n",
        "  * Todos los datos utilizados en los ejercicios deben ser **accesibles públicamente** a través de una API, URL directa o repositorios de datos públicos conocidos (ej. Kaggle, UCI Machine Learning Repository, etc.). Aseguren que los datos sean fácilmente descargables y utilizables.(Aplica solamente para datos externos)\n",
        "  * El Notebook debe estar **bien comentado**, incluyendo explicaciones claras de cada sección de código, la lógica aplicada, las decisiones tomadas y los resultados obtenidos.\n",
        "  * Se valorará la **elegancia y claridad** en el código, así como en la presentación de\n",
        " los resultados y las justificaciones\n",
        "\n",
        "\n"
      ],
      "metadata": {
        "id": "4-6YmzK0R6TE"
      }
    },
    {
      "cell_type": "markdown",
      "source": [
        "# **Ejercicio 1: Algoritmo de Búsqueda (25%)**\n",
        "---\n",
        "\n",
        "\n",
        "\n"
      ],
      "metadata": {
        "id": "uPOECu-QRVgG"
      }
    },
    {
      "cell_type": "code",
      "execution_count": null,
      "metadata": {
        "id": "nFbY9FzsQylm"
      },
      "outputs": [],
      "source": []
    },
    {
      "cell_type": "markdown",
      "source": [
        "# **Ejercicio 2: Clasificación con Base de Datos Interna (35%)**\n",
        "---\n",
        "\n"
      ],
      "metadata": {
        "id": "FZHGo-HCRYCr"
      }
    },
    {
      "cell_type": "code",
      "source": [],
      "metadata": {
        "id": "-IMrtOwSRYZ5"
      },
      "execution_count": null,
      "outputs": []
    },
    {
      "cell_type": "markdown",
      "source": [
        "# **Ejercicio 3: Clasificación con Bases de Datos Externas y  Preprocesamiento Avanzado (40%)**\n",
        "---\n"
      ],
      "metadata": {
        "id": "MkQ6XlL-RYqr"
      }
    },
    {
      "cell_type": "code",
      "source": [],
      "metadata": {
        "id": "87dQ5K8pRY9c"
      },
      "execution_count": null,
      "outputs": []
    }
  ]
}